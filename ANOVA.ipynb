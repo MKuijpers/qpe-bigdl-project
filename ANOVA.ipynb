{
 "cells": [
  {
   "cell_type": "markdown",
   "metadata": {},
   "source": [
    "# Import Data"
   ]
  },
  {
   "cell_type": "code",
   "execution_count": null,
   "metadata": {},
   "outputs": [],
   "source": [
    "import os\n",
    "import researchpy as rp\n",
    "import pandas as pd\n",
    "import pickle\n",
    "\n",
    "import statsmodels.api as sm\n",
    "from statsmodels.formula.api import ols\n",
    "\n",
    "dir = os.scandir('data/')\n",
    "experiments = list(filter(lambda x: x.name.endswith(\".pickle\"), dir))\n",
    "\n",
    "df = pd.DataFrame()\n",
    "\n",
    "for experiment in experiments:\n",
    "    dffile = open(experiment.path, 'rb')      \n",
    "    read_df = pickle.load(dffile)\n",
    "    read_df = read_df[['max_epochs', 'executor_memory', 'executor_cores', 'model', 'accuracy', 'time']]\n",
    "    df = pd.concat([df, read_df])\n",
    "\n",
    "        \n",
    "acc_df = pd.DataFrame({'y': df[\"accuracy\"],\n",
    "                       'epochs': df[\"max_epochs\"],\n",
    "                       'memory': df[\"executor_memory\"],\n",
    "                       'cores': df[\"executor_cores\"],\n",
    "                       'model': df[\"model\"]})\n",
    "\n",
    "time_df = pd.DataFrame({'y': df[\"time\"],\n",
    "                        'epochs': df[\"max_epochs\"],\n",
    "                        'memory': df[\"executor_memory\"],\n",
    "                        'cores': df[\"executor_cores\"],\n",
    "                        'model': df[\"model\"]})\n",
    "\n",
    "print(f\"Imported {len(experiments)} experiments!\")"
   ]
  },
  {
   "cell_type": "markdown",
   "metadata": {},
   "source": [
    "## DataFrame Summaries"
   ]
  },
  {
   "cell_type": "code",
   "execution_count": null,
   "metadata": {},
   "outputs": [],
   "source": [
    "summary_acc_df = rp.summary_cont(acc_df.groupby(['model', 'epochs', 'cores', 'memory']))['y']\n",
    "summary_acc_df"
   ]
  },
  {
   "cell_type": "code",
   "execution_count": null,
   "metadata": {},
   "outputs": [],
   "source": [
    "summary_time_df = rp.summary_cont(time_df.groupby(['model', 'epochs', 'cores', 'memory']))['y']\n",
    "summary_time_df"
   ]
  },
  {
   "cell_type": "markdown",
   "metadata": {},
   "source": [
    "## ANOVA analysis"
   ]
  },
  {
   "cell_type": "code",
   "execution_count": null,
   "metadata": {},
   "outputs": [],
   "source": [
    "def anova_analysis(input_df):\n",
    "    model = ols('y ~ C(model)*epochs*cores*memory', input_df).fit()\n",
    "    \n",
    "    res = sm.stats.anova_lm(model, typ=2)\n",
    "    res['PR(>F) < 0.05'] = res['PR(>F)'] < 0.05\n",
    "    return res, model"
   ]
  },
  {
   "cell_type": "code",
   "execution_count": null,
   "metadata": {},
   "outputs": [],
   "source": [
    "acc_res, acc_model = anova_analysis(acc_df)\n",
    "print(\"Accuracy ANOVA Analysis\")\n",
    "acc_res"
   ]
  },
  {
   "cell_type": "code",
   "execution_count": null,
   "metadata": {},
   "outputs": [],
   "source": [
    "time_res, time_model = anova_analysis(time_df)\n",
    "print(\"Time ANOVA Analysis\")\n",
    "time_res"
   ]
  },
  {
   "cell_type": "code",
   "execution_count": null,
   "metadata": {},
   "outputs": [],
   "source": [
    "epoch_model_acc = ols('epochs ~ C(model)*cores*memory*y', acc_df).fit()\n",
    "epoch_model_time = ols('epochs ~ C(model)*cores*memory*y', time_df).fit()\n",
    "\n",
    "def epoch_model_predict(trained_model, model, cores, memory, y):\n",
    "    assert model.lower() in ['bi-rnn', 'lenet5'], 'unsupported model (supported: bi-rnn or lenet5)'\n",
    "    assert cores > 0, 'impossible to run on 0 cores'\n",
    "    assert memory > 0, 'impossible to run without memory'\n",
    "    assert y > 0, 'either time or accuracy should be >0 (time or accuracy depends on the trained model)'\n",
    "    return trained_model.predict(exog={'model': model.lower(), 'cores': cores, 'memory': memory, 'y': y})[0]"
   ]
  },
  {
   "cell_type": "code",
   "execution_count": null,
   "metadata": {},
   "outputs": [],
   "source": [
    "prediction_with_acc = epoch_model_predict(epoch_model_acc, model='Bi-rnn', cores=10, memory=64, y=0.6)\n",
    "prediction_with_time = epoch_model_predict(epoch_model_time, model='Bi-rnn', cores=10, memory=64, y=300)\n",
    "\n",
    "print(f'Predicted epochs with accuracy: {prediction_with_acc}')\n",
    "print(f'Predicted epochs with time: {prediction_with_time}')"
   ]
  }
 ],
 "metadata": {
  "kernelspec": {
   "display_name": "week1_env",
   "language": "python",
   "name": "week1_env"
  },
  "language_info": {
   "codemirror_mode": {
    "name": "ipython",
    "version": 3
   },
   "file_extension": ".py",
   "mimetype": "text/x-python",
   "name": "python",
   "nbconvert_exporter": "python",
   "pygments_lexer": "ipython3",
   "version": "3.7.5"
  }
 },
 "nbformat": 4,
 "nbformat_minor": 4
}
